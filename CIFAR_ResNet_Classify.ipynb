{
 "cells": [
  {
   "cell_type": "code",
   "execution_count": 44,
   "id": "3610210d",
   "metadata": {},
   "outputs": [],
   "source": [
    "import torch\n",
    "import torch.nn as nn\n",
    "import torchvision.transforms as transforms\n",
    "import torchvision.datasets as datasets\n",
    "from torch.utils.data import DataLoader"
   ]
  },
  {
   "cell_type": "code",
   "execution_count": 45,
   "id": "791ad2f4",
   "metadata": {},
   "outputs": [],
   "source": [
    "transform = transforms.Compose([\n",
    "            transforms.Pad(4),\n",
    "            transforms.RandomHorizontalFlip(),\n",
    "            transforms.RandomCrop(32),\n",
    "            transforms.ToTensor()])"
   ]
  },
  {
   "cell_type": "code",
   "execution_count": 46,
   "id": "0474894c",
   "metadata": {},
   "outputs": [],
   "source": [
    "train_dataset = datasets.CIFAR10(root ='./Data', train = True, transform = transforms.ToTensor(), download = False)"
   ]
  },
  {
   "cell_type": "code",
   "execution_count": 47,
   "id": "b0445f26",
   "metadata": {},
   "outputs": [],
   "source": [
    "# to compute mean and std of the images for normalization\n",
    "loader = DataLoader(dataset = train_dataset, batch_size = 60000, shuffle = True)"
   ]
  },
  {
   "cell_type": "code",
   "execution_count": 48,
   "id": "20cab9fc",
   "metadata": {},
   "outputs": [],
   "source": [
    "sample = train_dataset[0]"
   ]
  },
  {
   "cell_type": "code",
   "execution_count": 49,
   "id": "64b4e36e",
   "metadata": {},
   "outputs": [
    {
     "data": {
      "text/plain": [
       "torch.Size([3, 32, 32])"
      ]
     },
     "execution_count": 49,
     "metadata": {},
     "output_type": "execute_result"
    }
   ],
   "source": [
    "sample[0].shape"
   ]
  },
  {
   "cell_type": "code",
   "execution_count": 50,
   "id": "77b4b88c",
   "metadata": {},
   "outputs": [],
   "source": [
    "for images, labels in loader:\n",
    "    mean_train = images.mean()\n",
    "    std_train = images.std()"
   ]
  },
  {
   "cell_type": "code",
   "execution_count": 51,
   "id": "6dd5ac20",
   "metadata": {},
   "outputs": [
    {
     "data": {
      "text/plain": [
       "tensor(0.4734)"
      ]
     },
     "execution_count": 51,
     "metadata": {},
     "output_type": "execute_result"
    }
   ],
   "source": [
    "mean_train"
   ]
  },
  {
   "cell_type": "code",
   "execution_count": 52,
   "id": "49fa4daf",
   "metadata": {},
   "outputs": [],
   "source": [
    "train_dataset = datasets.CIFAR10(root = \"./Data\", train = True, transform = transform,\n",
    "                                              download = False)"
   ]
  },
  {
   "cell_type": "code",
   "execution_count": 53,
   "id": "a8e0b1cd",
   "metadata": {},
   "outputs": [],
   "source": [
    "test_dataset = datasets.CIFAR10(root = \"./Data\", train = False, transform = transforms.ToTensor())"
   ]
  },
  {
   "cell_type": "code",
   "execution_count": 54,
   "id": "bbd4a6c8",
   "metadata": {},
   "outputs": [
    {
     "data": {
      "text/plain": [
       "50000"
      ]
     },
     "execution_count": 54,
     "metadata": {},
     "output_type": "execute_result"
    }
   ],
   "source": [
    "len(train_dataset)"
   ]
  },
  {
   "cell_type": "code",
   "execution_count": 55,
   "id": "617ed366",
   "metadata": {},
   "outputs": [
    {
     "data": {
      "text/plain": [
       "torchvision.datasets.cifar.CIFAR10"
      ]
     },
     "execution_count": 55,
     "metadata": {},
     "output_type": "execute_result"
    }
   ],
   "source": [
    "type(train_dataset)"
   ]
  },
  {
   "cell_type": "code",
   "execution_count": 56,
   "id": "47416e11",
   "metadata": {},
   "outputs": [
    {
     "data": {
      "text/plain": [
       "10000"
      ]
     },
     "execution_count": 56,
     "metadata": {},
     "output_type": "execute_result"
    }
   ],
   "source": [
    "len(test_dataset)"
   ]
  },
  {
   "cell_type": "code",
   "execution_count": 57,
   "id": "655c5812",
   "metadata": {},
   "outputs": [],
   "source": [
    "image, label =train_dataset[0]"
   ]
  },
  {
   "cell_type": "code",
   "execution_count": 58,
   "id": "352920b3",
   "metadata": {},
   "outputs": [
    {
     "data": {
      "text/plain": [
       "torch.Size([3, 32, 32])"
      ]
     },
     "execution_count": 58,
     "metadata": {},
     "output_type": "execute_result"
    }
   ],
   "source": [
    "image.shape"
   ]
  },
  {
   "cell_type": "code",
   "execution_count": 59,
   "id": "16b44507",
   "metadata": {},
   "outputs": [
    {
     "data": {
      "text/plain": [
       "6"
      ]
     },
     "execution_count": 59,
     "metadata": {},
     "output_type": "execute_result"
    }
   ],
   "source": [
    "label"
   ]
  },
  {
   "cell_type": "code",
   "execution_count": 60,
   "id": "f48e46bf",
   "metadata": {},
   "outputs": [],
   "source": [
    "img_numpy = image.permute(1,2,0).numpy()"
   ]
  },
  {
   "cell_type": "code",
   "execution_count": 61,
   "id": "63d783bd",
   "metadata": {},
   "outputs": [],
   "source": [
    "img = img_numpy"
   ]
  },
  {
   "cell_type": "code",
   "execution_count": 62,
   "id": "db655a46",
   "metadata": {},
   "outputs": [],
   "source": [
    "import matplotlib.pyplot as plt"
   ]
  },
  {
   "cell_type": "code",
   "execution_count": 63,
   "id": "94f4a1d3",
   "metadata": {},
   "outputs": [
    {
     "data": {
      "text/plain": [
       "(32, 32, 3)"
      ]
     },
     "execution_count": 63,
     "metadata": {},
     "output_type": "execute_result"
    }
   ],
   "source": [
    "img.shape"
   ]
  },
  {
   "cell_type": "code",
   "execution_count": 64,
   "id": "aa8d7c5e",
   "metadata": {},
   "outputs": [
    {
     "data": {
      "image/png": "[encoded data removed]",
      "text/plain": [
       "<Figure size 100x100 with 1 Axes>"
      ]
     },
     "metadata": {},
     "output_type": "display_data"
    }
   ],
   "source": [
    "plt.figure(figsize = (1,1))\n",
    "plt.imshow(img,interpolation='nearest')\n",
    "plt.title(f\"Label: {label}\" )\n",
    "plt.show()\n"
   ]
  },
  {
   "cell_type": "code",
   "execution_count": 65,
   "id": "fc4f28cb",
   "metadata": {},
   "outputs": [],
   "source": [
    "# Convert to batch\n",
    "train_load = DataLoader(dataset = train_dataset, batch_size = 100, shuffle = True)\n"
   ]
  },
  {
   "cell_type": "code",
   "execution_count": 66,
   "id": "bdc0a01e",
   "metadata": {},
   "outputs": [],
   "source": [
    "test_load = DataLoader(dataset = test_dataset, batch_size = 100, shuffle = False)"
   ]
  },
  {
   "cell_type": "code",
   "execution_count": 67,
   "id": "910426de",
   "metadata": {},
   "outputs": [
    {
     "data": {
      "text/plain": [
       "500"
      ]
     },
     "execution_count": 67,
     "metadata": {},
     "output_type": "execute_result"
    }
   ],
   "source": [
    "len(train_load)"
   ]
  },
  {
   "cell_type": "code",
   "execution_count": 68,
   "id": "d28b11e5",
   "metadata": {},
   "outputs": [],
   "source": [
    "# Building the ResNetModel\n",
    "class ResNet(nn.Module):\n",
    "    def __init__(self):\n",
    "        super().__init__()\n",
    "        ######## 3x3 Conv,16#########\n",
    "        self.cnn = nn.Conv2d(in_channels = 3, out_channels = 16, kernel_size =3, stride =1, padding =1)\n",
    "        self.batchnorm = nn.BatchNorm2d(16)\n",
    "        self.relu = nn.ReLU()\n",
    "        \n",
    "        ######## Layer 1 ######### cnn_L_B_C\n",
    "        self.cnn_1_1_1 = nn.Conv2d(in_channels = 16, out_channels = 16, kernel_size =3, stride =1, padding =1)\n",
    "        self.batchnorm_1_1_1 = nn.BatchNorm2d(16)\n",
    "        self.cnn_1_1_2 = nn.Conv2d(in_channels = 16, out_channels = 16, kernel_size =3, stride =1, padding =1)\n",
    "        self.batchnorm_1_1_2 = nn.BatchNorm2d(16)\n",
    "        self.cnn_1_2_1 = nn.Conv2d(in_channels = 16, out_channels = 16, kernel_size =3, stride =1, padding =1)\n",
    "        self.batchnorm_1_2_1 = nn.BatchNorm2d(16)\n",
    "        self.cnn_1_2_2 = nn.Conv2d(in_channels = 16, out_channels = 16, kernel_size =3, stride =1, padding =1)\n",
    "        self.batchnorm_1_2_2 = nn.BatchNorm2d(16)\n",
    "        \n",
    "        ######## Layer 2 #########\n",
    "        self.cnn_2_r = nn.Conv2d(in_channels = 16, out_channels = 32, kernel_size =3, stride =2,padding =1)\n",
    "        self.batchnorm_2_r = nn.BatchNorm2d(32)\n",
    "        self.cnn_2_1_1 = nn.Conv2d(in_channels = 16, out_channels = 32, kernel_size =3, stride =2,padding =1)\n",
    "        self.batchnorm_2_1_1 = nn.BatchNorm2d(32)\n",
    "        self.cnn_2_1_2 = nn.Conv2d(in_channels = 32, out_channels = 32, kernel_size =3, stride =1,padding =1)\n",
    "        self.batchnorm_2_1_2 = nn.BatchNorm2d(32)\n",
    "        self.cnn_2_2_1 = nn.Conv2d(in_channels = 32, out_channels = 32, kernel_size =3, stride =1,padding =1)\n",
    "        self.batchnorm_2_2_1 = nn.BatchNorm2d(32)\n",
    "        self.cnn_2_2_2 = nn.Conv2d(in_channels = 32, out_channels = 32, kernel_size =3, stride =1,padding =1)\n",
    "        self.batchnorm_2_2_2 = nn.BatchNorm2d(32)\n",
    "        ######## Layer 3 #########\n",
    "        self.cnn_3_r = nn.Conv2d(in_channels = 32, out_channels = 64, kernel_size =3, stride =2,padding=1)\n",
    "        self.batchnorm_3_r = nn.BatchNorm2d(64)\n",
    "        self.cnn_3_1_1 = nn.Conv2d(in_channels = 32, out_channels = 64, kernel_size =3, stride =2,padding=1)\n",
    "        self.batchnorm_3_1_1 = nn.BatchNorm2d(64)\n",
    "        self.cnn_3_1_2 = nn.Conv2d(in_channels = 64, out_channels = 64, kernel_size =3, stride =1,padding =1)\n",
    "        self.batchnorm_3_1_2 = nn.BatchNorm2d(64)\n",
    "        self.cnn_3_2_1 = nn.Conv2d(in_channels = 64, out_channels = 64, kernel_size =3, stride =1,padding =1)\n",
    "        self.batchnorm_3_2_1 = nn.BatchNorm2d(64)\n",
    "        self.cnn_3_2_2 = nn.Conv2d(in_channels = 64, out_channels = 64, kernel_size =3, stride =1,padding =1)\n",
    "        self.batchnorm_3_2_2 = nn.BatchNorm2d(64)\n",
    "        \n",
    "        #########################\n",
    "        self.avgpool = nn.AvgPool2d(kernel_size =8)\n",
    "        self.fc = nn.Linear(64,10)\n",
    "        \n",
    "    def forward(self,x):\n",
    "        out = self.cnn(x)           # Initial conv 3x3 \n",
    "        out = self.batchnorm(out)\n",
    "        out = self.relu(out)\n",
    "        residual = out  # Residual path 1_1         \n",
    "        out = self.cnn_1_1_1(out)    # Layer 1 block 1, conv 1  \n",
    "        out = self.batchnorm_1_1_1(out)\n",
    "        out = self.relu(out)\n",
    "        out = self.cnn_1_1_2(out) # Layer 1 block 1, conv 2\n",
    "        out = self.batchnorm_1_1_2(out)\n",
    "        out = residual + out   # Layer 1, block 1 addition \n",
    "        out = self.relu(out)\n",
    "        residual = out;    # Residual path 1_2   \n",
    "        out = self.cnn_1_2_1(out)    # Layer 1 block 2, conv 1\n",
    "        out = self.batchnorm_1_2_1(out)\n",
    "        out = self.relu(out)\n",
    "        out = self.cnn_1_2_2(out) # Layer 1 block 2, conv 2\n",
    "        out = self.batchnorm_1_2_2(out)\n",
    "        out = residual + out   # Layer 1, block 2 addition \n",
    "        out = self.relu(out)\n",
    "        residual = self.cnn_2_r(out) \n",
    "        residual = self.batchnorm_2_r(residual)\n",
    "        out = self.cnn_2_1_1(out)    # Layer 2 block 1, conv 1\n",
    "        out = self.batchnorm_2_1_1(out)\n",
    "        out = self.relu(out)\n",
    "        out = self.cnn_2_1_2(out) # Layer 2 block 1, conv 2\n",
    "        out = self.batchnorm_2_1_2(out)\n",
    "        out = residual + out   # Layer 2, block 1 addition \n",
    "        out = self.relu(out)\n",
    "        residual = out\n",
    "        out = self.cnn_2_2_1(out)    # Layer 2 block 2, conv 1\n",
    "        out = self.batchnorm_2_2_1(out)\n",
    "        out = self.relu(out)\n",
    "        out = self.cnn_2_2_2(out) # Layer 2 block 2, conv 2\n",
    "        out = self.batchnorm_2_2_2(out)\n",
    "        out = residual + out   # Layer 2, block 2 addition \n",
    "        out = self.relu(out)\n",
    "        residual = self.cnn_3_r(out)\n",
    "        residual = self.batchnorm_3_r(residual)\n",
    "       # residual = self.relu(residual)\n",
    "        out = self.cnn_3_1_1(out)    # Layer 3 block 1, conv 1\n",
    "        out = self.batchnorm_3_1_1(out)\n",
    "        out = self.relu(out)\n",
    "        out = self.cnn_3_1_2(out) # Layer 3 block 1, conv 2\n",
    "        out = self.batchnorm_3_1_2(out)\n",
    "        out = residual + out   # Layer 3, block 1 addition \n",
    "        out = self.relu(out)\n",
    "        residual = out\n",
    "        out = self.cnn_3_2_1(out)    # Layer 3 block 2, conv 1\n",
    "        out = self.batchnorm_3_2_1(out)\n",
    "        out = self.relu(out)\n",
    "        out = self.cnn_3_2_2(out) # Layer 3 block 2, conv 2\n",
    "        out = self.batchnorm_3_2_2(out)\n",
    "        out = residual + out   # Layer 3, block 2, addition \n",
    "        out = self.relu(out)\n",
    "        out = self.avgpool(out)\n",
    "        out = out.view(-1,64)\n",
    "        out = self.fc(out)\n",
    "        return out\n",
    "        \n",
    "             "
   ]
  },
  {
   "cell_type": "code",
   "execution_count": 69,
   "id": "00c7484c",
   "metadata": {},
   "outputs": [],
   "source": [
    "model = ResNet()\n",
    "loss_fn = nn.CrossEntropyLoss()\n",
    "optimizer = torch.optim.Adam(model.parameters(), lr = 0.01)\n"
   ]
  },
  {
   "cell_type": "code",
   "execution_count": 70,
   "id": "cf676511",
   "metadata": {},
   "outputs": [
    {
     "name": "stdout",
     "output_type": "stream",
     "text": [
      "torch.Size([100, 3, 32, 32])\n",
      "torch.Size([100])\n"
     ]
    }
   ],
   "source": [
    "for x,y in train_load:\n",
    "    print(x.shape)\n",
    "    print(y.shape)\n",
    "    break"
   ]
  },
  {
   "cell_type": "code",
   "execution_count": 71,
   "id": "dc3aef76",
   "metadata": {},
   "outputs": [
    {
     "name": "stdout",
     "output_type": "stream",
     "text": [
      "tensor([[-5.1739e-02,  2.7224e-01, -6.2772e-01,  1.5424e-01, -5.2558e-01,\n",
      "         -2.1967e-01,  1.0289e-01,  1.5792e-01,  3.9311e-03, -1.1133e-01],\n",
      "        [ 5.1804e-02,  4.0023e-01, -3.4227e-01, -8.8639e-02, -7.8407e-01,\n",
      "         -1.6366e-01,  1.7446e-01,  8.0553e-02, -4.9788e-02, -1.2428e-01],\n",
      "        [-1.0901e-02,  2.9359e-01, -6.1126e-01,  3.1107e-02, -5.4957e-01,\n",
      "         -2.4953e-01, -6.0296e-03,  1.9403e-01,  5.6530e-02, -2.3260e-01],\n",
      "        [-8.0003e-02,  4.6732e-01, -1.6809e-01, -2.1857e-01, -8.1616e-01,\n",
      "         -1.0477e-01,  2.0326e-01,  2.1125e-01, -4.2223e-03, -4.2221e-02],\n",
      "        [-3.0824e-02,  3.6843e-01, -7.3049e-02, -5.5741e-01, -1.3137e+00,\n",
      "         -2.2293e-01,  1.9294e-01,  3.7298e-01,  8.0057e-02, -1.4165e-01],\n",
      "        [ 7.3382e-02,  2.1953e-01, -5.3452e-02, -5.8430e-01, -2.0531e+00,\n",
      "         -2.8021e-01,  3.1165e-01,  1.6468e-01,  2.1418e-01, -2.8902e-01],\n",
      "        [-2.8516e-01,  3.8798e-01,  6.0625e-01, -8.4342e-01, -2.0423e+00,\n",
      "         -5.8528e-01,  2.7186e-01,  3.8490e-01,  5.1704e-01, -1.7049e-01],\n",
      "        [-3.0826e-02,  3.2303e-01, -5.6340e-01,  3.7370e-02, -5.6924e-01,\n",
      "         -1.7577e-01,  9.7692e-02,  2.5089e-01,  1.1865e-02, -1.7521e-01],\n",
      "        [ 7.7971e-02,  4.4236e-01, -2.6962e-01, -1.5986e-01, -7.0316e-01,\n",
      "         -2.0507e-01,  2.0494e-01,  9.0229e-02,  3.9195e-02, -1.6632e-01],\n",
      "        [ 3.5596e-02,  4.3421e-01, -4.8950e-01, -2.2041e-02, -4.7798e-01,\n",
      "         -1.6499e-01,  1.5560e-01,  7.9783e-02, -2.8643e-02, -3.1498e-01],\n",
      "        [-1.9539e-01,  3.1808e-01, -6.5308e-02, -2.8966e-01, -1.0337e+00,\n",
      "         -3.8708e-01,  3.8321e-01,  2.2620e-01,  3.6535e-04, -1.2073e-01],\n",
      "        [-3.5652e-02,  2.1708e-01, -4.3880e-01, -1.3921e-02, -6.2611e-01,\n",
      "         -1.9406e-01,  8.2730e-02,  1.8983e-01,  5.2899e-02, -1.1189e-01],\n",
      "        [-3.0814e-02,  4.5040e-01, -2.8868e-01, -1.9801e-01, -6.5157e-01,\n",
      "         -1.6438e-01,  2.2942e-01,  1.6876e-01,  6.7322e-02, -2.0213e-01],\n",
      "        [-1.1394e-01,  3.7116e-01, -3.2442e-01, -1.0158e-01, -6.8958e-01,\n",
      "         -2.7870e-01,  2.2905e-01,  1.5036e-01,  2.1094e-02, -9.9616e-02],\n",
      "        [ 1.0484e-02,  7.8399e-02,  2.1609e-01, -8.3647e-01, -2.0000e+00,\n",
      "         -3.8337e-01,  5.8689e-01,  2.4245e-01,  8.4984e-02, -3.1595e-01],\n",
      "        [-2.2675e-02,  4.0242e-01, -3.9717e-01, -8.8909e-02, -7.3345e-01,\n",
      "         -2.3302e-01,  5.1755e-02,  2.3596e-01,  2.4435e-01, -2.4857e-01],\n",
      "        [ 5.1421e-02,  3.3533e-01, -4.7938e-01, -2.4216e-01, -9.1412e-01,\n",
      "         -2.2710e-01,  1.1219e-01,  3.4790e-01,  8.7226e-02, -2.8682e-01],\n",
      "        [-1.5359e-01,  4.8889e-01, -7.2629e-02, -3.8598e-01, -1.0662e+00,\n",
      "         -2.2940e-01,  4.4985e-01,  2.8263e-01, -1.4407e-01, -4.0085e-02],\n",
      "        [-4.9045e-02,  3.6337e-01, -3.6144e-01, -7.7218e-02, -7.6744e-01,\n",
      "         -2.9603e-01,  1.8264e-01,  2.3409e-01, -9.5836e-02, -2.2556e-01],\n",
      "        [ 2.2255e-01,  3.7647e-01, -3.8075e-01,  1.4081e-03, -7.8818e-01,\n",
      "         -3.3848e-01,  1.4820e-01,  6.6229e-02,  1.2311e-01, -3.6846e-01],\n",
      "        [-3.4073e-02,  4.1086e-01,  1.0248e-03, -3.0787e-01, -1.1982e+00,\n",
      "         -3.0438e-01,  4.5380e-01,  1.9820e-01,  1.2961e-01, -2.4570e-01],\n",
      "        [-2.8996e-01,  3.1200e-01, -2.1210e-01, -6.7362e-01, -1.5870e+00,\n",
      "         -3.8908e-01,  3.2133e-01,  2.9120e-01,  3.6477e-01, -2.3807e-01],\n",
      "        [-9.0779e-02,  4.7624e-01,  2.1716e-01, -7.2788e-01, -1.5604e+00,\n",
      "         -3.4111e-01,  2.9705e-01,  2.7828e-01,  1.5780e-01, -9.3391e-02],\n",
      "        [-5.7699e-02,  3.9155e-01, -3.3600e-01, -2.9082e-01, -8.3185e-01,\n",
      "          1.1151e-02,  1.1534e-01,  2.6164e-01,  2.0033e-02, -2.2866e-01],\n",
      "        [-2.6409e-02,  3.6231e-01, -2.7266e-01, -1.8485e-01, -8.0386e-01,\n",
      "         -1.6023e-01,  7.1484e-02,  1.5631e-01, -1.9245e-02, -1.1411e-01],\n",
      "        [ 9.8585e-04,  3.8635e-01, -3.8014e-01, -1.4889e-02, -7.2319e-01,\n",
      "         -3.1030e-01,  1.2956e-01,  1.3666e-01,  1.0951e-01, -2.2175e-01],\n",
      "        [-8.0643e-02,  4.1295e-01, -3.9881e-01, -3.1153e-01, -8.0551e-01,\n",
      "         -1.0914e-01,  7.3644e-03,  1.8849e-01,  1.5729e-01, -2.6591e-01],\n",
      "        [-9.8094e-02,  4.2628e-01, -2.6530e-01, -3.4156e-01, -1.1641e+00,\n",
      "         -2.0685e-01,  2.5914e-01,  2.2419e-01, -1.8517e-02, -2.6903e-01],\n",
      "        [-1.1863e-01,  3.2532e-01, -2.6831e-01, -2.2554e-01, -9.0463e-01,\n",
      "         -2.0944e-01,  1.1035e-01,  2.6689e-01,  1.4374e-01, -1.1547e-01],\n",
      "        [-1.1340e-02,  3.4273e-01, -5.1764e-01, -1.1059e-02, -7.1429e-01,\n",
      "         -3.3002e-01,  1.8315e-01,  2.3434e-01,  6.1649e-02, -1.7657e-01],\n",
      "        [-1.3341e-01,  4.4558e-01,  2.9362e-01, -4.5401e-01, -1.7544e+00,\n",
      "         -5.6121e-01,  2.4835e-01,  3.1469e-01,  3.9513e-01, -3.1895e-01],\n",
      "        [-5.9694e-02,  2.8487e-01, -5.4570e-01,  4.3313e-02, -6.6545e-01,\n",
      "         -2.7783e-01,  1.6034e-01,  1.2999e-01,  1.0628e-01, -1.3991e-02],\n",
      "        [-2.0129e-02,  3.7014e-01, -4.2836e-01, -5.9087e-03, -5.2196e-01,\n",
      "         -1.7719e-01,  1.0288e-01,  1.1154e-01,  1.5974e-02, -9.9688e-02],\n",
      "        [ 7.7924e-03,  3.2824e-01, -2.0487e-01, -3.9336e-01, -9.6162e-01,\n",
      "         -2.0997e-01,  2.4052e-01,  2.1109e-01, -3.9037e-02, -6.7937e-02],\n",
      "        [-4.1714e-02,  4.0519e-01, -2.4097e-01, -1.7625e-01, -8.1222e-01,\n",
      "         -2.0171e-01,  1.6039e-01,  1.5752e-01, -6.8183e-02, -1.6767e-02],\n",
      "        [-9.8012e-02,  3.3346e-01, -1.8495e-02, -3.7107e-01, -1.2715e+00,\n",
      "         -3.1600e-01,  2.0989e-01,  2.3249e-01,  1.5539e-01, -1.2491e-01],\n",
      "        [-6.9101e-02,  3.6087e-01, -3.3481e-01, -1.8109e-01, -8.7308e-01,\n",
      "         -3.9737e-01,  3.7979e-01,  2.3386e-01,  6.7393e-02, -1.0849e-01],\n",
      "        [ 3.4384e-02,  3.2578e-01, -5.6388e-01,  6.6498e-02, -5.6214e-01,\n",
      "         -2.0060e-01,  1.4741e-01,  1.5405e-01, -8.0526e-03, -1.8419e-01],\n",
      "        [-1.8090e-01,  4.0123e-01, -3.5588e-01, -1.9265e-01, -7.6137e-01,\n",
      "         -1.9815e-01,  2.0298e-01,  2.2999e-01, -8.1119e-03, -5.0739e-02],\n",
      "        [-2.2764e-02,  4.4756e-01, -4.3574e-01,  7.9497e-02, -6.9929e-01,\n",
      "         -3.5595e-01,  2.4475e-01,  1.9599e-01,  5.0977e-02, -2.2821e-01],\n",
      "        [ 1.3803e-01,  4.0745e-01, -9.7469e-02, -3.4779e-01, -1.3860e+00,\n",
      "         -2.9582e-01,  5.0952e-01,  1.3833e-01,  1.1480e-01, -1.5497e-01],\n",
      "        [-1.2128e-01,  3.3786e-01, -2.7162e-01,  4.4776e-02, -7.5944e-01,\n",
      "         -2.6140e-01,  2.6339e-01,  1.3347e-01,  8.7888e-02, -1.9303e-01],\n",
      "        [-2.4909e-01,  5.2101e-01, -1.0306e-01, -6.2026e-01, -1.3944e+00,\n",
      "         -3.3606e-01,  2.8725e-01,  2.7778e-01,  1.4815e-01, -3.8347e-02],\n",
      "        [ 3.7652e-02,  3.9857e-01, -4.8452e-01, -7.2679e-02, -6.9129e-01,\n",
      "         -3.1505e-01,  1.6104e-01,  3.0384e-01,  3.1817e-03, -1.9434e-01],\n",
      "        [-6.4803e-02,  4.3588e-01, -3.7924e-01, -1.0087e-01, -7.7929e-01,\n",
      "         -3.8452e-01,  1.6023e-01,  2.1022e-01,  4.7770e-02, -2.5037e-01],\n",
      "        [-1.6917e-01,  4.0962e-01, -5.3469e-02, -3.1538e-01, -9.8919e-01,\n",
      "         -1.7518e-01,  1.3002e-01,  2.2755e-01,  1.4592e-01, -1.7875e-01],\n",
      "        [ 1.8584e-01,  3.4770e-01,  2.5791e-01, -4.5049e-01, -1.5038e+00,\n",
      "         -3.6009e-01,  3.7628e-01,  1.3890e-01,  1.9192e-01, -2.6804e-01],\n",
      "        [-3.7784e-02,  3.2145e-01, -1.0670e-01, -1.2449e-01, -9.9588e-01,\n",
      "         -4.3957e-01,  2.2780e-01,  2.1632e-01,  5.0756e-02, -3.3214e-01],\n",
      "        [-4.7543e-02,  4.1643e-01, -3.7596e-01, -2.8282e-01, -7.7459e-01,\n",
      "         -1.7552e-01,  1.4148e-01,  1.8249e-01,  3.8678e-02, -2.1604e-01],\n",
      "        [ 1.1272e-01,  5.2047e-02,  5.4173e-01, -9.0305e-01, -2.4645e+00,\n",
      "         -7.3577e-01,  7.3296e-01,  2.3469e-01,  5.1901e-01, -1.5409e-01],\n",
      "        [-7.9679e-02,  4.4161e-01, -4.4807e-01,  3.1983e-02, -6.5287e-01,\n",
      "         -3.2294e-01,  1.3903e-01,  2.2484e-01,  1.0618e-01, -1.2623e-01],\n",
      "        [-1.6421e-02,  2.8628e-01, -5.1375e-01, -1.1827e-01, -6.3167e-01,\n",
      "         -1.7631e-01,  5.1520e-02,  2.7025e-01,  7.8598e-02, -8.3714e-02],\n",
      "        [-4.4781e-02,  4.5698e-01, -3.0795e-01, -4.4930e-01, -1.0730e+00,\n",
      "         -2.5678e-01,  3.1869e-01,  2.2667e-01,  8.5103e-02, -1.3911e-01],\n",
      "        [ 7.7683e-02,  3.4532e-01, -1.4816e-01, -3.7395e-01, -1.3855e+00,\n",
      "         -3.0453e-01,  3.5357e-02,  2.6800e-01,  1.2963e-01, -4.0035e-01],\n",
      "        [-2.9816e-01,  3.0107e-01,  4.3085e-01, -7.6133e-01, -1.8303e+00,\n",
      "         -4.2874e-01,  4.2184e-01,  3.3329e-01,  3.4730e-01, -2.4246e-01],\n",
      "        [-5.7794e-02,  4.6024e-01, -6.4928e-02, -4.3545e-01, -1.1807e+00,\n",
      "         -2.7364e-01,  1.3140e-01,  3.0176e-01,  2.3299e-01, -1.9221e-01],\n",
      "        [-3.2752e-01,  2.0940e-01, -1.0660e-01, -6.4457e-01, -1.8297e+00,\n",
      "         -1.5192e-01,  9.4292e-02,  1.5582e-01,  1.3084e-01, -2.1410e-01],\n",
      "        [-3.5934e-03,  2.4893e-01, -5.2870e-01,  7.2413e-02, -5.2246e-01,\n",
      "         -2.8383e-01,  1.4415e-01,  1.4889e-01,  6.6016e-03, -1.0836e-01],\n",
      "        [-1.2188e-01,  3.4842e-01, -4.2805e-01,  2.6444e-02, -6.5704e-01,\n",
      "         -3.4190e-01,  9.7862e-02,  2.2184e-01,  1.0453e-01, -1.2491e-01],\n",
      "        [-1.9015e-02,  4.5724e-01, -3.1687e-01, -6.5875e-02, -8.4675e-01,\n",
      "         -2.6527e-01,  1.0965e-01,  2.2152e-01,  8.3282e-02, -2.7765e-01],\n",
      "        [-3.7355e-02,  2.9361e-01, -9.2425e-02, -9.8515e-02, -1.0147e+00,\n",
      "         -1.9277e-01,  1.4414e-01,  1.3503e-01, -7.8967e-03, -2.2864e-01],\n",
      "        [-6.5002e-02,  3.2137e-01, -2.9448e-01, -8.0893e-02, -9.9848e-01,\n",
      "         -2.3115e-01,  5.6499e-02,  1.3023e-01,  2.1909e-01, -2.6251e-01],\n",
      "        [-1.1418e-01,  4.4732e-01, -4.3119e-03, -5.0165e-01, -1.1268e+00,\n",
      "         -3.0040e-01,  3.5385e-01,  3.0917e-01,  3.4240e-02, -1.7721e-02],\n",
      "        [-1.9715e-02,  3.1606e-01, -5.3450e-01, -1.0274e-01, -6.1102e-01,\n",
      "         -1.5306e-01,  8.9675e-02,  2.7793e-01, -7.5030e-02, -2.3273e-01],\n",
      "        [ 1.5250e-01,  4.5123e-02,  3.6175e-01, -7.5187e-01, -2.6899e+00,\n",
      "         -3.8390e-01,  4.3435e-01,  3.1994e-01,  6.2335e-01, -3.7608e-01],\n",
      "        [-3.9040e-03,  4.2859e-01, -8.4678e-02, -3.3586e-01, -9.6552e-01,\n",
      "         -3.5254e-01,  3.2268e-01,  2.4820e-01,  8.2995e-02, -6.8445e-02],\n",
      "        [-1.8222e-03,  3.2432e-01, -4.7262e-01,  3.9976e-02, -5.7012e-01,\n",
      "         -1.0141e-01,  1.0541e-01,  1.3684e-02,  3.7263e-02, -1.7209e-01],\n",
      "        [-1.3485e-01,  3.4555e-01,  1.0881e-01, -5.3060e-01, -1.6127e+00,\n",
      "         -4.0856e-01,  2.6470e-01,  2.4256e-01,  2.7316e-01, -3.1206e-01],\n",
      "        [ 7.7040e-02,  3.0659e-01, -4.3447e-01, -8.6121e-02, -7.2052e-01,\n",
      "         -1.5470e-01,  1.1637e-01,  2.0460e-01, -2.6735e-02, -2.8776e-01],\n",
      "        [-1.4132e-01,  4.2037e-01,  2.9544e-02, -4.2083e-01, -1.1896e+00,\n",
      "         -3.6333e-01,  3.8373e-01,  2.6948e-01,  2.0559e-01, -1.7196e-01],\n",
      "        [-5.9284e-02,  3.5766e-01, -4.2082e-01, -3.6909e-02, -5.6846e-01,\n",
      "         -1.4461e-01,  1.1929e-01,  1.4506e-01, -1.5274e-02, -9.5479e-02],\n",
      "        [-1.6181e-01,  4.6040e-01,  6.2233e-02, -3.9930e-01, -1.1550e+00,\n",
      "         -3.0974e-01,  1.7385e-01,  2.2955e-01,  2.1572e-01, -1.2919e-01],\n",
      "        [-2.3789e-01,  4.4070e-01,  2.0144e-01, -8.5281e-01, -1.5889e+00,\n",
      "         -2.8040e-01,  5.7682e-01,  1.6198e-01,  3.0626e-02, -1.1935e-02],\n",
      "        [-4.3682e-02,  2.8763e-01, -5.5953e-01, -1.5454e-01, -8.2707e-01,\n",
      "         -1.5145e-01,  1.2147e-01,  1.9547e-01,  6.0938e-02, -2.1142e-01],\n",
      "        [-6.1931e-02,  2.8436e-01, -7.1488e-01, -3.6248e-02, -6.0189e-01,\n",
      "         -2.1010e-01,  5.7542e-02,  2.7572e-01,  6.7466e-02, -1.8590e-01],\n",
      "        [-2.5934e-01,  4.0244e-01,  3.3988e-01, -4.1660e-01, -1.4552e+00,\n",
      "         -3.5749e-01,  9.6327e-02,  1.3347e-01,  3.1459e-01, -1.4427e-01],\n",
      "        [ 3.8490e-03,  2.6629e-01, -5.8995e-01, -3.7375e-02, -6.0902e-01,\n",
      "         -2.3092e-01,  9.8437e-02,  1.7633e-01,  6.2418e-02, -1.6385e-01],\n",
      "        [-9.0789e-02,  3.5696e-01, -1.5461e-01, -3.2713e-01, -1.2124e+00,\n",
      "         -1.6192e-01,  1.7383e-01,  1.7559e-01, -3.7108e-02, -3.3343e-02],\n",
      "        [-1.5941e-01,  4.1567e-01,  1.9326e-01, -3.7096e-01, -1.4164e+00,\n",
      "         -5.0455e-01,  1.7880e-01,  2.4289e-01,  3.2907e-01, -1.2809e-01],\n",
      "        [ 4.2654e-02,  2.7905e-01,  1.5524e-02, -6.5040e-01, -1.5713e+00,\n",
      "         -1.1311e-01,  2.7314e-01,  2.9743e-01,  2.3099e-01, -1.5671e-01],\n",
      "        [-1.3302e-01,  5.1971e-01, -5.7526e-02, -3.8938e-01, -1.1985e+00,\n",
      "         -3.5629e-01,  3.6457e-01,  2.6957e-01, -5.3249e-02, -1.6397e-01],\n",
      "        [ 1.4793e-01,  4.2716e-01,  6.2027e-02, -3.6400e-01, -1.4379e+00,\n",
      "         -2.3418e-01,  1.9497e-01,  1.6439e-01,  2.0771e-01, -2.3931e-01],\n",
      "        [-9.9964e-02,  1.9564e-01, -6.3418e-01,  1.1460e-01, -5.7878e-01,\n",
      "         -2.7119e-01,  1.5662e-01,  1.5983e-01,  4.2650e-02, -1.8378e-01],\n",
      "        [-1.3417e-01,  4.3485e-01, -1.3747e-02, -4.9793e-01, -1.1176e+00,\n",
      "         -1.7560e-01,  1.6945e-01,  1.9197e-01,  6.5258e-02, -7.1620e-02],\n",
      "        [-4.2974e-02,  4.2431e-01, -3.6486e-01, -1.0067e-01, -7.6323e-01,\n",
      "         -3.2230e-01,  2.7600e-01,  2.3487e-01, -3.9248e-02, -8.2355e-02],\n",
      "        [-1.0807e-01,  3.9638e-01, -3.6190e-01, -4.0279e-01, -1.0515e+00,\n",
      "         -2.3910e-01,  1.1048e-01,  4.0178e-01,  2.0748e-02, -2.1948e-01],\n",
      "        [-7.0729e-02,  3.0203e-01,  1.4646e-01, -5.8382e-01, -1.2012e+00,\n",
      "         -4.3413e-01,  5.3823e-01,  4.8427e-01, -8.1890e-02, -1.4835e-01],\n",
      "        [-3.2709e-02,  2.4184e-01, -3.5885e-01, -1.2244e-01, -7.7006e-01,\n",
      "         -3.1542e-01,  1.5437e-01,  1.9052e-01, -7.4470e-02, -1.1868e-01],\n",
      "        [-5.7798e-02,  3.4549e-01, -4.7445e-01, -1.4046e-03, -5.8196e-01,\n",
      "         -1.5088e-01,  6.1433e-02,  1.3041e-01,  8.3999e-02, -2.0769e-01],\n",
      "        [ 8.3150e-02,  2.6491e-01, -6.7029e-01, -3.4401e-03, -5.3406e-01,\n",
      "         -2.7028e-01,  1.1282e-01,  2.1743e-01, -2.5184e-02, -1.9840e-01],\n",
      "        [-5.4164e-02,  2.9332e-01, -5.1416e-01, -2.2172e-03, -6.0000e-01,\n",
      "         -8.7048e-02,  8.7629e-02,  1.8602e-01, -8.4160e-02, -2.0736e-01],\n",
      "        [-1.9296e-01,  3.8995e-01, -2.7257e-01, -9.5815e-02, -7.3458e-01,\n",
      "         -2.8708e-01,  2.3218e-01,  2.9122e-01, -4.1319e-03, -2.5587e-01],\n",
      "        [-6.8134e-02,  3.7577e-01, -2.5556e-02, -2.4110e-01, -1.1411e+00,\n",
      "         -3.4273e-01,  1.8068e-01,  3.5692e-01,  1.4373e-01, -3.0009e-01],\n",
      "        [ 3.8837e-01, -4.1703e-01,  1.8652e-01, -5.4651e-01, -3.0210e+00,\n",
      "         -2.5535e-01,  4.4271e-01,  1.8408e-01,  5.2075e-01, -4.2995e-01],\n",
      "        [-6.7870e-02,  4.1445e-01, -4.6455e-02, -5.9886e-01, -1.3135e+00,\n",
      "         -3.8398e-01,  3.9248e-01,  1.1147e-01,  2.9681e-01, -2.5479e-01],\n",
      "        [-2.5959e-01,  3.8382e-01, -1.5497e-01, -1.9193e-01, -1.0134e+00,\n",
      "         -2.7121e-01,  2.4548e-01,  2.5857e-01,  3.7625e-02, -7.9377e-02],\n",
      "        [-9.7218e-02,  4.1941e-01, -5.2608e-02, -2.7796e-01, -1.1924e+00,\n",
      "         -2.1584e-01,  3.0433e-01,  8.3031e-02,  8.9904e-02, -2.6800e-01],\n",
      "        [-1.0733e-01,  4.3261e-01, -2.2597e-01, -1.9310e-01, -9.8716e-01,\n",
      "         -2.5541e-01,  1.7437e-01,  2.9196e-01,  2.9762e-02, -8.5385e-02],\n",
      "        [ 1.1064e-01,  8.5963e-02, -7.3733e-01,  1.2994e-01, -4.5933e-01,\n",
      "         -1.0737e-01,  3.4528e-02,  1.6349e-01, -5.6541e-02, -2.6238e-01],\n",
      "        [-2.2599e-02,  4.5556e-01, -2.8288e-01, -9.5824e-02, -6.9831e-01,\n",
      "         -1.4761e-01,  7.6763e-02,  2.2341e-01,  1.3505e-01, -2.2956e-01]],\n",
      "       grad_fn=<AddmmBackward0>)\n"
     ]
    }
   ],
   "source": [
    "total_loss = 0\n",
    "for i, (inputs,labels) in enumerate(train_load):\n",
    "        output = model(inputs)\n",
    "        loss_iter  = loss_fn(output,labels)\n",
    "        optimizer.zero_grad()\n",
    "        loss_iter.backward()\n",
    "        optimizer.step()   # w(t+1) = wt - lr*grad\n",
    "        total_loss += loss_iter.item()\n",
    "        _,predicted = torch.max(output,1)  # [0.1,0.7,0.2]\n",
    "        break\n",
    "print(output)\n"
   ]
  },
  {
   "cell_type": "code",
   "execution_count": 72,
   "id": "23ccee0b",
   "metadata": {
    "scrolled": true
   },
   "outputs": [
    {
     "name": "stdout",
     "output_type": "stream",
     "text": [
      "Epochs : 1/20, Training_loss: 1.611, Training_Acc: 39.578\n",
      "Epochs : 2/20, Training_loss: 1.126, Training_Acc: 59.412\n",
      "Epochs : 3/20, Training_loss: 0.925, Training_Acc: 67.184\n",
      "Epochs : 4/20, Training_loss: 0.787, Training_Acc: 72.394\n",
      "Epochs : 5/20, Training_loss: 0.681, Training_Acc: 76.444\n",
      "Epochs : 6/20, Training_loss: 0.621, Training_Acc: 78.456\n",
      "Epochs : 7/20, Training_loss: 0.564, Training_Acc: 80.422\n",
      "Epochs : 8/20, Training_loss: 0.527, Training_Acc: 81.648\n",
      "Epochs : 9/20, Training_loss: 0.494, Training_Acc: 82.922\n",
      "Epochs : 10/20, Training_loss: 0.475, Training_Acc: 83.552\n",
      "Epochs : 11/20, Training_loss: 0.454, Training_Acc: 84.016\n",
      "Epochs : 12/20, Training_loss: 0.432, Training_Acc: 85.022\n",
      "Epochs : 13/20, Training_loss: 0.410, Training_Acc: 85.736\n",
      "Epochs : 14/20, Training_loss: 0.398, Training_Acc: 86.234\n",
      "Epochs : 15/20, Training_loss: 0.384, Training_Acc: 86.652\n",
      "Epochs : 16/20, Training_loss: 0.374, Training_Acc: 86.938\n",
      "Epochs : 17/20, Training_loss: 0.358, Training_Acc: 87.384\n",
      "Epochs : 18/20, Training_loss: 0.344, Training_Acc: 87.994\n",
      "Epochs : 19/20, Training_loss: 0.336, Training_Acc: 88.166\n",
      "Epochs : 20/20, Training_loss: 0.326, Training_Acc: 88.550\n"
     ]
    }
   ],
   "source": [
    "train_loss = []\n",
    "train_acc = []\n",
    "num_epochs = 20\n",
    "\n",
    "for epoch in range(num_epochs):\n",
    "    iterations = 0\n",
    "    total_correct = 0\n",
    "    total_loss = 0\n",
    "    model.train()  # model.eval()\n",
    "    for i, (inputs,labels) in enumerate(train_load):\n",
    "        output = model(inputs)\n",
    "        loss_iter  = loss_fn(output,labels)\n",
    "        optimizer.zero_grad()\n",
    "        loss_iter.backward()\n",
    "        optimizer.step()   # w(t+1) = wt - lr*grad\n",
    "        total_loss += loss_iter.item()\n",
    "        _,predicted = torch.max(output,1)  # [0.1,0.7,0.2]\n",
    "        total_correct += (predicted == labels).sum()\n",
    "        iterations +=1  # 60000 images , in 100 batch size : no of batches: 60000/100 = 600 batches\n",
    "    avg_loss = total_loss/(iterations)\n",
    "    avg_acc  = 100*(total_correct/len(train_dataset))\n",
    "    train_loss.append(avg_loss)\n",
    "    train_acc.append(avg_acc)\n",
    "    print(\"Epochs : {}/{}, Training_loss: {:.3f}, Training_Acc: {:.3f}\" .format(epoch+1,num_epochs,avg_loss,avg_acc))\n",
    "        "
   ]
  },
  {
   "cell_type": "code",
   "execution_count": 23,
   "id": "fbd660c5",
   "metadata": {},
   "outputs": [
    {
     "name": "stdout",
     "output_type": "stream",
     "text": [
      "Test_Accuracy 85.36000061035156\n",
      "Test_loss 0.4489305055141449\n"
     ]
    }
   ],
   "source": [
    "model.eval()  # model.eval()\n",
    "iterations = 0\n",
    "total_correct = 0\n",
    "total_loss = 0\n",
    "for i, (inputs,labels) in enumerate(test_load):\n",
    "        output = model(inputs)\n",
    "        loss_iter  = loss_fn(output,labels)\n",
    "        total_loss += loss_iter.item()\n",
    "        _,predicted = torch.max(output,1)  # [0.1,0.7,0.2]\n",
    "        total_correct += (predicted == labels).sum()\n",
    "        iterations +=1  # 10000 images , in 100 batch size : no of batches: 60000/100 = 600 batches\n",
    "avg_loss = total_loss/(iterations)\n",
    "avg_acc  = 100*(total_correct/len(test_dataset))\n",
    "print(\"Test_Accuracy\",avg_acc.item())\n",
    "print(\"Test_loss\", avg_loss)"
   ]
  },
  {
   "cell_type": "code",
   "execution_count": 112,
   "id": "50928d23",
   "metadata": {},
   "outputs": [],
   "source": [
    "image = test_dataset[20]"
   ]
  },
  {
   "cell_type": "code",
   "execution_count": 116,
   "id": "8a443993",
   "metadata": {},
   "outputs": [],
   "source": [
    "img = image[0]"
   ]
  },
  {
   "cell_type": "code",
   "execution_count": 118,
   "id": "b415174b",
   "metadata": {},
   "outputs": [
    {
     "data": {
      "text/plain": [
       "torch.Size([1, 28, 28])"
      ]
     },
     "execution_count": 118,
     "metadata": {},
     "output_type": "execute_result"
    }
   ],
   "source": [
    "img.shape"
   ]
  },
  {
   "cell_type": "code",
   "execution_count": 126,
   "id": "9b6a8225",
   "metadata": {},
   "outputs": [],
   "source": [
    "img = img.view((1,1,28,28))"
   ]
  },
  {
   "cell_type": "code",
   "execution_count": 127,
   "id": "aaf2af95",
   "metadata": {},
   "outputs": [],
   "source": [
    "label = image[1]"
   ]
  },
  {
   "cell_type": "code",
   "execution_count": 128,
   "id": "eeef51dc",
   "metadata": {},
   "outputs": [
    {
     "data": {
      "text/plain": [
       "9"
      ]
     },
     "execution_count": 128,
     "metadata": {},
     "output_type": "execute_result"
    }
   ],
   "source": [
    "label"
   ]
  },
  {
   "cell_type": "code",
   "execution_count": 130,
   "id": "d8aedd2f",
   "metadata": {},
   "outputs": [
    {
     "name": "stdout",
     "output_type": "stream",
     "text": [
      "predicted label is 9\n",
      "Original label is 9\n"
     ]
    }
   ],
   "source": [
    "model.eval()\n",
    "output = model(img)\n",
    "x,predicted = torch.max(output,1)\n",
    "print(\"predicted label is\", predicted.item())\n",
    "print(\"Original label is\" , label)\n",
    "\n"
   ]
  },
  {
   "cell_type": "code",
   "execution_count": 136,
   "id": "d3a42d53",
   "metadata": {},
   "outputs": [],
   "source": [
    "import cv2\n",
    "from PIL import Image"
   ]
  },
  {
   "cell_type": "code",
   "execution_count": 145,
   "id": "8df6a445",
   "metadata": {},
   "outputs": [
    {
     "data": {
      "image/png": "[encoded data removed]",
      "text/plain": [
       "<Figure size 640x480 with 1 Axes>"
      ]
     },
     "metadata": {},
     "output_type": "display_data"
    }
   ],
   "source": [
    "image = cv2.imread(\"3.jpg\",0)\n",
    "ret,threshold = cv2.threshold(image,100,255,cv2.THRESH_BINARY_INV) \n",
    "plt.imshow(threshold,cmap =\"gray\")\n",
    "plt.axis(\"off\")\n",
    "plt.show()\n"
   ]
  },
  {
   "cell_type": "code",
   "execution_count": 146,
   "id": "08c5206e",
   "metadata": {},
   "outputs": [],
   "source": [
    "transforms_photo = transforms.Compose([transforms.Resize([28,28]),transforms.ToTensor(),transforms.Normalize(mean_train,std_train)])"
   ]
  },
  {
   "cell_type": "code",
   "execution_count": 147,
   "id": "24ec729b",
   "metadata": {},
   "outputs": [],
   "source": [
    "# to convert numpy array to PIL image\n",
    "image = Image.fromarray(threshold)"
   ]
  },
  {
   "cell_type": "code",
   "execution_count": 149,
   "id": "6e6569e5",
   "metadata": {},
   "outputs": [],
   "source": [
    "img = transforms_photo(image)"
   ]
  },
  {
   "cell_type": "code",
   "execution_count": 151,
   "id": "21884d9c",
   "metadata": {},
   "outputs": [
    {
     "name": "stdout",
     "output_type": "stream",
     "text": [
      "The predicted label is  3\n"
     ]
    }
   ],
   "source": [
    "img = img.view(1,1,28,28)\n",
    "model.eval()\n",
    "output = model(img)\n",
    "x,predicted = torch.max(output,1)\n",
    "print(\"The predicted label is \", predicted.item())\n"
   ]
  },
  {
   "cell_type": "code",
   "execution_count": null,
   "id": "ac5c9b44",
   "metadata": {},
   "outputs": [],
   "source": []
  }
 ],
 "metadata": {
  "kernelspec": {
   "display_name": "Python 3 (ipykernel)",
   "language": "python",
   "name": "python3"
  },
  "language_info": {
   "codemirror_mode": {
    "name": "ipython",
    "version": 3
   },
   "file_extension": ".py",
   "mimetype": "text/x-python",
   "name": "python",
   "nbconvert_exporter": "python",
   "pygments_lexer": "ipython3",
   "version": "3.12.11"
  }
 },
 "nbformat": 4,
 "nbformat_minor": 5
}
